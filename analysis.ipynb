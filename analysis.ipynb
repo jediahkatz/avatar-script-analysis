{
 "cells": [
  {
   "cell_type": "code",
   "execution_count": 87,
   "metadata": {},
   "outputs": [],
   "source": [
    "from collections import Counter, defaultdict\n",
    "import re\n",
    "\n",
    "def get_ep_character_bows(script_lines):\n",
    "    \"\"\"Return a set of bags of words for this episode as a mapping from characters to words to counts.\"\"\"\n",
    "    bow = defaultdict(Counter)\n",
    "    for line in script_lines:\n",
    "        speaker, line = line.split('::')\n",
    "        speaker = speaker.lower()\n",
    "        line = line.replace('\\'', '').lower()\n",
    "        # Get all words, without parentheses and ignoring punctuation\n",
    "        words = re.findall(r'\\w+', line)\n",
    "        bow[speaker.strip()].update(words)\n",
    "    return bow"
   ]
  },
  {
   "cell_type": "code",
   "execution_count": 88,
   "metadata": {},
   "outputs": [],
   "source": [
    "def combine_bows(bows):\n",
    "    \"\"\"Merge a collection of bags of words into one. Does not modify the input.\"\"\"\n",
    "    combined_bow = Counter()\n",
    "    for bow in bows:\n",
    "        combined_bow.update(bow)\n",
    "    return combined_bow\n",
    "\n",
    "def combine_character_bows(character_bows):\n",
    "    \"\"\"Merge a collection of mappings from characters to bags of words into one. Does not modify the input.\"\"\"\n",
    "    all_characters = set(k for bow in character_bows for k in bow.keys())\n",
    "    combined_bow_set = {c: combine_bows(bow_map[c] for bow_map in character_bows) for c in all_characters}\n",
    "    return defaultdict(Counter, combined_bow_set)\n"
   ]
  },
  {
   "cell_type": "code",
   "execution_count": 89,
   "metadata": {},
   "outputs": [],
   "source": [
    "def get_words_by_bayes(character_bows):\n",
    "    \"\"\"\n",
    "    Given a mapping from characters to bags of words (for an episode, season, etc), \n",
    "    return a mapping from each character to a list of pairs (w, p), where w is a word \n",
    "    and p is the probability that a random occurrence of the word was spoken by that character.\n",
    "    The lists are sorted by descending probability.\n",
    "    \"\"\"\n",
    "    # Contains the total number of occurrences for each word\n",
    "    combined_bow = combine_bows(character_bows.values())\n",
    "    # p(character | word) = [# times character says word] / [# occurrences of word]\n",
    "    words_by_bayes = {\n",
    "        c: sorted(\n",
    "            [(w, character_bows[c][w] / combined_bow[w]) for w in combined_bow.keys()],\n",
    "            key=lambda wp: wp[1],\n",
    "            reverse=True\n",
    "        ) for c in character_bows.keys()\n",
    "    }\n",
    "    return words_by_bayes"
   ]
  },
  {
   "cell_type": "code",
   "execution_count": 90,
   "metadata": {
    "tags": [
     "outputPrepend",
     "outputPrepend",
     "outputPrepend"
    ]
   },
   "outputs": [],
   "source": [
    "s1_bows_collection = []\n",
    "for episode in range(1, 21):\n",
    "    ep_num = f'1{str(episode).zfill(2)}'\n",
    "    with open(f'transcripts/{ep_num}.txt') as f:\n",
    "        s1_bows_collection.append(get_ep_character_bows(f.readlines()))\n",
    "s1_bows = combine_character_bows(s1_bows_collection)\n",
    "s1_wbb = get_words_by_bayes(s1_bows)"
   ]
  },
  {
   "cell_type": "code",
   "execution_count": 94,
   "metadata": {},
   "outputs": [
    {
     "output_type": "execute_result",
     "data": {
      "text/plain": " 1.0),\n ('whales', 1.0),\n ('tooth', 1.0),\n ('comforting', 1.0),\n ('skins', 1.0),\n ('eel', 1.0),\n ('messenger', 1.0),\n ('trinket', 1.0),\n ('exhibits', 1.0),\n ('jugglers', 1.0),\n ('magicians', 1.0),\n ('thisd', 1.0),\n ('crowd', 1.0),\n ('coulda', 1.0),\n ('fireworks', 1.0),\n ('willing', 1.0),\n ('ookay', 1.0),\n ('squat', 1.0),\n ('fingertips', 1.0),\n ('patient', 1.0),\n ('instruction', 1.0),\n ('juggler', 1.0),\n ('iiiit', 1.0),\n ('firebend', 1.0),\n ('warmed', 1.0),\n ('ahoy', 1.0),\n ('sloppy', 1.0),\n ('grandpa', 1.0),\n ('championships', 1.0),\n ('polo', 1.0),\n ('ruined', 1.0),\n ('gliders', 1.0),\n ('teos', 1.0),\n ('nightmare', 1.0),\n ('deals', 1.0),\n ('retreating', 1.0),\n ('hermit', 1.0),\n ('crab', 1.0),\n ('poophead', 1.0),\n ('sinking', 1.0),\n ('floating', 1.0),\n ('showing', 1.0),\n ('dozen', 1.0),\n ('grass', 1.0),\n ('tranquil', 1.0),\n ('bout', 1.0),\n ('disturb', 1.0),\n ('whew', 1.0),\n ('curly', 1.0),\n ('tailed', 1.0),\n ('including', 1.0),\n ('chaos', 1.0),\n ('buddy', 0.875),\n ('ride', 0.8181818181818182),\n ('tight', 0.8),\n ('appas', 0.8),\n ('start', 0.8),\n ('hang', 0.75),\n ('action', 0.75),\n ('penguin', 0.75),\n ('excuse', 0.75),\n ('gravity', 0.75),\n ('flopsy', 0.75),\n ('solve', 0.75),\n ('harsh', 0.75),\n ('ball', 0.75),\n ('suck', 0.75),\n ('breathe', 0.75),\n ('started', 0.7142857142857143),\n ('uhh', 0.7142857142857143),\n ('protect', 0.6666666666666666),\n ('fair', 0.6666666666666666),\n ('gyatso', 0.6666666666666666),\n ('ladies', 0.6666666666666666),\n ('mail', 0.6666666666666666),\n ('toward', 0.6666666666666666),\n ('animal', 0.6666666666666666),\n ('bumi', 0.6666666666666666),\n ('nothings', 0.6666666666666666),\n ('stinks', 0.6666666666666666),\n ('whistle', 0.6666666666666666),\n ('itll', 0.6666666666666666),\n ('smiling', 0.6666666666666666),\n ('booby', 0.6666666666666666),\n ('dropped', 0.6666666666666666),\n ('iceberg', 0.6666666666666666),\n ('carrying', 0.6666666666666666),\n ('fail', 0.6666666666666666),\n ('vision', 0.6666666666666666),\n ('separate', 0.6666666666666666),\n ('frogs', 0.6666666666666666),\n ('gliding', 0.6666666666666666),\n ('roku', 0.6428571428571429),\n ('hello', 0.6363636363636364),\n ('appa', 0.6346153846153846),\n ('airbending', 0.6),\n ('copper', 0.6),\n ('attacked', 0.6),\n ('story', 0.6),\n ('staff', 0.6),\n ('statue', 0.6),\n ('glad', 0.6),\n ('omashu', 0.6),\n ('mad', 0.6),\n ('jeong', 0.5909090909090909),\n ('bison', 0.5882352941176471),\n ('figure', 0.5833333333333334),\n ('yip', 0.5714285714285714),\n ('running', 0.5714285714285714),\n ('guys', 0.5652173913043478),\n ('island', 0.5555555555555556),\n ('days', 0.5555555555555556),\n ('monks', 0.5555555555555556),\n ('comet', 0.5555555555555556),\n ('haha', 0.5),\n ('prediction', 0.5),\n ('howd', 0.5),\n ('kataras', 0.5),\n ('airball', 0.5),\n ('putting', 0.5),\n ('whoevers', 0.5),\n ('key', 0.5),\n ('mountain', 0.5),\n ('ton', 0.5),\n ('stick', 0.5),\n ('places', 0.5),\n ('shell', 0.5),\n ('keys', 0.5),\n ('base', 0.5),\n ('system', 0.5),\n ('shyu', 0.5),\n ('mud', 0.5),\n ('piece', 0.5),\n ('pet', 0.5),\n ('traps', 0.5),\n ('jealous', 0.5),\n ('able', 0.5),\n ('feuding', 0.5),\n ('tangled', 0.5),\n ('sometime', 0.5),\n ('truth', 0.5),\n ('aloof', 0.5),\n ('flower', 0.5),\n ('happening', 0.5),\n ('starving', 0.5),\n ('poster', 0.5),\n ('snake', 0.5),\n ('glider', 0.5),\n ('empty', 0.5),\n ('weapons', 0.5),\n ('slime', 0.5),\n ('skies', 0.5),\n ('higher', 0.5),\n ('cultural', 0.5),\n ('snack', 0.5),\n ('stuck', 0.5),\n ('setting', 0.5),\n ('named', 0.5),\n ('treatment', 0.5),\n ('wash', 0.5),\n ('felt', 0.5),\n ('lift', 0.5),\n ('sky', 0.5),\n ('extinct', 0.5),\n ('currents', 0.5),\n ('animals', 0.5),\n ('meantime', 0.5),\n ('penguins', 0.5),\n ('twelve', 0.5),\n ('blame', 0.5),\n ('forward', 0.5),\n ('meeting', 0.5),\n ('liked', 0.5),\n ('sort', 0.5),\n ('monkeys', 0.5),\n ('sleeping', 0.5),\n ('bag', 0.5),\n ('range', 0.5),\n ('doubt', 0.5),\n ('cycle', 0.5),\n ('newest', 0.5),\n ('neither', 0.5),\n ('basket', 0.5),\n ('finger', 0.5),\n ('dress', 0.5),\n ('visit', 0.5),\n ('ohh', 0.5),\n ('awaits', 0.5),\n ('half', 0.5),\n ('third', 0.5),\n ('miles', 0.5),\n ('sending', 0.5),\n ('thatll', 0.5),\n ('kangaroo', 0.5),\n ('newly', 0.5),\n ('challenge', 0.5),\n ('finished', 0.5),\n ('saved', 0.5),\n ('possibilities', 0.5),\n ('hat', 0.5),\n ('trade', 0.5),\n ('hay', 0.5),\n ('words', 0.5),\n ('peace', 0.5),\n ('command', 0.5),\n ('ahhhh', 0.5),\n ('contact', 0.5),\n ('crescent', 0.5),\n ('ships', 0.5),\n ('avoid', 0.5),\n ('sundown', 0.5),\n ('nope', 0.5),\n ('clean', 0.5),\n ('curios', 0.5),\n ('haggle', 0.5),\n ('shift', 0.5),\n ('stances', 0.5),\n ('works', 0.5),\n ('single', 0.5),\n ('hideout', 0.5),\n ('tent', 0.5),\n ('problems', 0.5),\n ('100', 0.5),\n ('sticking', 0.5),\n ('lines', 0.5),\n ('cooperate', 0.5),\n ('wall', 0.5),\n ('ways', 0.5),\n ('enemies', 0.5),\n ('twins', 0.5),\n ('fact', 0.5),\n ('importantly', 0.5),\n ('gates', 0.5),\n ('box', 0.5),\n ('yell', 0.5),\n ('others', 0.5),\n ('field', 0.5),\n ('outside', 0.5),\n ('quick', 0.5),\n ('changing', 0.5),\n ('worse', 0.5),\n ('afraid', 0.5),\n ('fisherman', 0.5),\n ('apologize', 0.5),\n ('ginger', 0.5),\n ('cure', 0.5),\n ('rescue', 0.5),\n ('woven', 0.5),\n ('umbrella', 0.5),\n ('busy', 0.5),\n ('trusted', 0.5),\n ('prunes', 0.5),\n ('train', 0.5),\n ('disciplines', 0.5),\n ('breathing', 0.5),\n ('wasting', 0.5),\n ('begin', 0.5),\n ('jeongs', 0.5),\n ('restraint', 0.5),\n ('bathhouse', 0.5),\n ('swallow', 0.5),\n ('gotem', 0.5),\n ('difference', 0.5),\n ('unleash', 0.5),\n ('cmon', 0.5),\n ('emotion', 0.5),\n ('koh', 0.5),\n ('physical', 0.5),\n ('oasis', 0.5),\n ('temple', 0.48484848484848486),\n ('thanks', 0.4722222222222222),\n ('eat', 0.47058823529411764),\n ('each', 0.46153846153846156),\n ('almost', 0.46153846153846156),\n ('friends', 0.45161290322580644),\n ('friend', 0.4444444444444444),\n ('together', 0.4444444444444444),\n ('check', 0.4444444444444444),\n ('supposed', 0.4444444444444444),\n ('katara', 0.4396551724137931),\n ('fun', 0.43478260869565216),\n ('whoa', 0.42857142857142855),\n ('deal', 0.42857142857142855),\n ('sun', 0.42857142857142855),\n ('talk', 0.42857142857142855),\n ('ya', 0.42857142857142855),\n ('hungry', 0.42857142857142855),\n ('hours', 0.42857142857142855),\n ('alone', 0.42857142857142855),\n ('hei', 0.42857142857142855),\n ('bai', 0.42857142857142855),\n ('faster', 0.42857142857142855),\n ('wed', 0.42857142857142855),\n ('challenges', 0.42857142857142855),\n ('teacher', 0.42857142857142855),\n ('knew', 0.4230769230769231),\n ('hey', 0.42168674698795183),\n ('sorry', 0.41818181818181815),\n ('momo', 0.4074074074074074),\n ('weight', 0.4),\n ('frozen', 0.4),\n ('promise', 0.4),\n ('oof', 0.4),\n ('idea', 0.4),\n ('yesterday', 0.4),\n ('somewhere', 0.4),\n ('ow', 0.4),\n ('gotta', 0.4),\n ('pieces', 0.4),\n ('somehow', 0.4),\n ('kinda', 0.4),\n ('map', 0.4),\n ('top', 0.4),\n ('unagi', 0.4),\n ('redemption', 0.4),\n ('relax', 0.4),\n ('practicing', 0.4),\n ('closer', 0.4),\n ('near', 0.4),\n ('treat', 0.4),\n ('brings', 0.4),\n ('destroying', 0.4),\n ('rokus', 0.4),\n ('mouth', 0.4),\n ('said', 0.39285714285714285),\n ('stuff', 0.391304347826087),\n ('two', 0.391304347826087),\n ('everyone', 0.3870967741935484),\n ('wasnt', 0.38461538461538464),\n ('teach', 0.38461538461538464),\n ('same', 0.38461538461538464),\n ('anyone', 0.38461538461538464),\n ('ask', 0.375),\n ('werent', 0.375),\n ('made', 0.375),\n ('both', 0.375),\n ('playing', 0.375),\n ('business', 0.375),\n ('forest', 0.375),\n ('ok', 0.375),\n ('used', 0.375),\n ('wake', 0.375),\n ('monk', 0.375),\n ('city', 0.375),\n ('wish', 0.375),\n ('solstice', 0.375),\n ('stories', 0.375),\n ('pakku', 0.375),\n ('nice', 0.37209302325581395),\n ('sokka', 0.37168141592920356),\n ('happened', 0.3684210526315789),\n ('does', 0.36666666666666664),\n ('miss', 0.36363636363636365),\n ('watch', 0.36363636363636365),\n ('genius', 0.36363636363636365),\n ('spirit', 0.35714285714285715),\n ('found', 0.35714285714285715),\n ('fly', 0.35294117647058826),\n ('guess', 0.35294117647058826),\n ('ill', 0.3492063492063492),\n ('come', 0.3488372093023256),\n ('whats', 0.34782608695652173),\n ('airbender', 0.3448275862068966),\n ('sure', 0.3442622950819672),\n ('yeh', 0.33962264150943394),\n ('look', 0.3380281690140845),\n ('know', 0.33714285714285713),\n ('bunny', 0.3333333333333333),\n ('wus', 0.3333333333333333),\n ('destroyed', 0.3333333333333333),\n ('eight', 0.3333333333333333),\n ('loved', 0.3333333333333333),\n ('names', 0.3333333333333333),\n ('nature', 0.3333333333333333),\n ('kill', 0.3333333333333333),\n ('meet', 0.3333333333333333),\n ('kyoshi', 0.3333333333333333),\n ('called', 0.3333333333333333),\n ('rope', 0.3333333333333333),\n ('panda', 0.3333333333333333),\n ('lilly', 0.3333333333333333),\n ('culture', 0.3333333333333333),\n ('maybe', 0.3333333333333333),\n ('flying', 0.3333333333333333),\n ('games', 0.3333333333333333),\n ('couldnt', 0.3333333333333333),\n ('find', 0.3333333333333333),\n ('game', 0.3333333333333333),\n ('wheres', 0.3333333333333333),\n ('em', 0.3333333333333333),\n ('wanna', 0.3333333333333333),\n ('pants', 0.3333333333333333),\n ('serious', 0.3333333333333333),\n ('shaped', 0.3333333333333333),\n ('breakfast', 0.3333333333333333),\n ('slow', 0.3333333333333333),\n ('idiot', 0.3333333333333333),\n ('bend', 0.3333333333333333),\n ('vents', 0.3333333333333333),\n ('anywhere', 0.3333333333333333),\n ('yehhh', 0.3333333333333333),\n ('bathroom', 0.3333333333333333),\n ('talking', 0.3333333333333333),\n ('blasts', 0.3333333333333333),\n ('picked', 0.3333333333333333),\n ('112', 0.3333333333333333),\n ('danger', 0.3333333333333333),\n ('fancy', 0.3333333333333333),\n ('bet', 0.3333333333333333),\n ('rhinos', 0.3333333333333333),\n ('quit', 0.3333333333333333),\n ('messed', 0.3333333333333333),\n ('jobs', 0.3333333333333333),\n ('puffs', 0.3333333333333333),\n ('everybody', 0.3333333333333333),\n ('grab', 0.3333333333333333),\n ('fought', 0.3333333333333333),\n ('split', 0.3333333333333333),\n ('wanted', 0.3333333333333333),\n ('festival', 0.3333333333333333),\n ('fell', 0.3333333333333333),\n ('sokkas', 0.3333333333333333),\n ('thinking', 0.3333333333333333),\n ('self', 0.3333333333333333),\n ('either', 0.3333333333333333),\n ('fall', 0.3333333333333333),\n ('ridiculous', 0.3333333333333333),\n ('western', 0.3333333333333333),\n ('concentrating', 0.3333333333333333),\n ('study', 0.3333333333333333),\n ('couple', 0.3333333333333333),\n ('benders', 0.3333333333333333),\n ('tongue', 0.3333333333333333),\n ('waterbenders', 0.3333333333333333),\n ('hog', 0.3333333333333333),\n ('escaped', 0.3333333333333333),\n ('ones', 0.3333333333333333),\n ('bother', 0.3333333333333333),\n ('member', 0.3333333333333333),\n ('giving', 0.3333333333333333),\n ('having', 0.3333333333333333),\n ('grow', 0.3333333333333333),\n ('pipinpadaloxicopolis', 0.3333333333333333),\n ('refurbished', 0.3333333333333333),\n ('warden', 0.3333333333333333),\n ('burning', 0.3333333333333333),\n ('bridge', 0.3333333333333333),\n ('upset', 0.3333333333333333),\n ('sad', 0.3333333333333333),\n ('attack', 0.3333333333333333),\n ('stronger', 0.3333333333333333),\n ('mention', 0.3333333333333333),\n ('questions', 0.3333333333333333),\n ('arrives', 0.3333333333333333),\n ('weeks', 0.3333333333333333),\n ('voice', 0.3333333333333333),\n ('whip', 0.3333333333333333),\n ('cause', 0.3333333333333333),\n ('chores', 0.3333333333333333),\n ('elderly', 0.3333333333333333),\n ('trapped', 0.3333333333333333),\n ('jins', 0.3333333333333333),\n ('heads', 0.3333333333333333),\n ('short', 0.3333333333333333),\n ('ripe', 0.3333333333333333),\n ('form', 0.3333333333333333),\n ('toys', 0.3333333333333333),\n ('chose', 0.3333333333333333),\n ('arms', 0.3333333333333333),\n ('root', 0.3333333333333333),\n ('eye', 0.3333333333333333),\n ('hidden', 0.3333333333333333),\n ('jump', 0.3333333333333333),\n ('gift', 0.3333333333333333),\n ('style', 0.3333333333333333),\n ('heart', 0.3333333333333333),\n ('hasnt', 0.3333333333333333),\n ('solution', 0.3333333333333333),\n ('shape', 0.3333333333333333),\n ('remind', 0.3333333333333333),\n ('sight', 0.3333333333333333),\n ('disguises', 0.3333333333333333),\n ('touch', 0.3333333333333333),\n ('wild', 0.3333333333333333),\n ('shot', 0.3333333333333333),\n ('laugh', 0.3333333333333333),\n ('door', 0.3333333333333333),\n ('blue', 0.3333333333333333),\n ('i', 0.33102081268582756),\n ('on', 0.3235294117647059),\n ('am', 0.3235294117647059),\n ('okay', 0.3230769230769231),\n ('boy', 0.3225806451612903),\n ('something', 0.32142857142857145),\n ('isnt', 0.32),\n ('coming', 0.3181818181818182),\n ('problem', 0.3181818181818182),\n ('master', 0.3170731707317073),\n ('please', 0.3157894736842105),\n ('theres', 0.3142857142857143),\n ('im', 0.31365313653136534),\n ('actually', 0.3125),\n ('would', 0.3125),\n ('mean', 0.3111111111111111),\n ('didnt', 0.3103448275862069),\n ('how', 0.31007751937984496),\n ('there', 0.30973451327433627),\n ('run', 0.3076923076923077),\n ('means', 0.3076923076923077),\n ('firebenders', 0.3076923076923077),\n ('exactly', 0.3076923076923077),\n ('bending', 0.3076923076923077),\n ('got', 0.30666666666666664),\n ('go', 0.3063063063063063),\n ('everything', 0.30434782608695654),\n ('wei', 0.30434782608695654),\n ('could', 0.30158730158730157),\n ('thank', 0.3),\n ('guy', 0.3),\n ('arent', 0.3),\n ('nuts', 0.3),\n ('few', 0.3),\n ('side', 0.3),\n ('live', 0.3),\n ('impossible', 0.3),\n ('make', 0.29545454545454547),\n ('me', 0.2951388888888889),\n ('wait', 0.29411764705882354),\n ('never', 0.2926829268292683),\n ('just', 0.2916666666666667),\n ('try', 0.2916666666666667),\n ('learn', 0.2903225806451613),\n ('fate', 0.2857142857142857),\n ('around', 0.2857142857142857),\n ('back', 0.2857142857142857),\n ('heh', 0.2857142857142857),\n ('leave', 0.2857142857142857),\n ('air', 0.2857142857142857),\n ('giant', 0.2857142857142857),\n ('fear', 0.2857142857142857),\n ('meat', 0.2857142857142857),\n ('lemur', 0.2857142857142857),\n ('knows', 0.2857142857142857),\n ('steal', 0.2857142857142857),\n ('luck', 0.2857142857142857),\n ('burned', 0.2857142857142857),\n ('needed', 0.2857142857142857),\n ('wisdom', 0.2857142857142857),\n ('about', 0.28440366972477066),\n ('thats', 0.28346456692913385),\n ('here', 0.28342245989304815),\n ('well', 0.2827586206896552),\n ('did', 0.2823529411764706),\n ('cant', 0.28125),\n ('need', 0.27835051546391754),\n ('wow', 0.2777777777777778),\n ('firebending', 0.2777777777777778),\n ('name', 0.2777777777777778),\n ('cloud', 0.2727272727272727),\n ('youd', 0.2727272727272727),\n ('sleep', 0.2727272727272727),\n ('gave', 0.2727272727272727),\n ('even', 0.2727272727272727),\n ('job', 0.2727272727272727),\n ('between', 0.2727272727272727),\n ('sacred', 0.2727272727272727),\n ('turn', 0.2727272727272727),\n ('out', 0.2714285714285714),\n ('huh', 0.2692307692307692),\n ('do', 0.26666666666666666),\n ('second', 0.26666666666666666),\n ('soon', 0.26666666666666666),\n ('what', 0.26545454545454544),\n ('hear', 0.2631578947368421),\n ('feel', 0.2631578947368421),\n ('other', 0.2619047619047619),\n ('listen', 0.2608695652173913),\n ('north', 0.2608695652173913),\n ('world', 0.26),\n ('aunt', 0.25806451612903225),\n ('home', 0.25806451612903225),\n ('really', 0.25396825396825395),\n ('awful', 0.25),\n ('fluffy', 0.25),\n ('own', 0.25),\n ('hundred', 0.25),\n ('stealing', 0.25),\n ('different', 0.25),\n ('ocean', 0.25),\n ('balance', 0.25),\n ('dragon', 0.25),\n ('hell', 0.25),\n ('say', 0.25),\n ('because', 0.25),\n ('myself', 0.25),\n ('yup', 0.25),\n ('trying', 0.25),\n ('wrong', 0.25),\n ('keeping', 0.25),\n ('aaahhh', 0.25),\n ('delicious', 0.25),\n ('wont', 0.25),\n ('dangerous', 0.25),\n ('pipsqueak', 0.25),\n ('coal', 0.25),\n ('fast', 0.25),\n ('blockade', 0.25),\n ('seen', 0.25),\n ('thinks', 0.25),\n ('pirates', 0.25),\n ('put', 0.25),\n ('market', 0.25),\n ('team', 0.25),\n ('pack', 0.25),\n ('arrow', 0.25),\n ('walk', 0.25),\n ('foot', 0.25),\n ('smooth', 0.25),\n ('people', 0.25),\n ('survived', 0.25),\n ('shelter', 0.25),\n ('lunch', 0.25),\n ('fortune', 0.25),\n ('room', 0.25),\n ('brought', 0.25),\n ('egg', 0.25),\n ('question', 0.25),\n ('wants', 0.25),\n ('hows', 0.25),\n ('win', 0.25),\n ('confused', 0.25),\n ('jerk', 0.25),\n ('theyll', 0.25),\n ('seems', 0.25),\n ('travel', 0.25),\n ('part', 0.25),\n ('eastern', 0.25),\n ('reading', 0.25),\n ('cold', 0.25),\n ('aww', 0.25),\n ('promised', 0.25),\n ('attention', 0.25),\n ('outta', 0.25),\n ('tests', 0.25),\n ('brain', 0.25),\n ('unless', 0.25),\n ('failed', 0.25),\n ('worlds', 0.25),\n ('learning', 0.25),\n ('price', 0.25),\n ('hilarious', 0.25),\n ('heres', 0.25),\n ('swishing', 0.25),\n ('favorite', 0.25),\n ('began', 0.25),\n ('bear', 0.25),\n ('normal', 0.25),\n ('asked', 0.25),\n ('burn', 0.25),\n ('bug', 0.25),\n ('moves', 0.25),\n ('spirits', 0.25),\n ('body', 0.25),\n ('up', 0.24719101123595505),\n ('why', 0.24705882352941178),\n ('over', 0.24489795918367346),\n ('lets', 0.24324324324324326),\n ('doesnt', 0.24),\n ('one', 0.23853211009174313),\n ('any', 0.23809523809523808),\n ('next', 0.23809523809523808),\n ('uh', 0.23809523809523808),\n ('told', 0.23809523809523808),\n ('dont', 0.23766816143497757),\n ('help', 0.23684210526315788),\n ('but', 0.23574144486692014),\n ('already', 0.23529411764705882),\n ('worry', 0.23529411764705882),\n ('looking', 0.23529411764705882),\n ('those', 0.23529411764705882),\n ('to', 0.23427991886409735),\n ('right', 0.23423423423423423),\n ('see', 0.2336448598130841),\n ('them', 0.23333333333333334),\n ('oh', 0.23170731707317074),\n ('all', 0.23121387283236994),\n ('control', 0.23076923076923078),\n ('her', 0.23076923076923078),\n ('stay', 0.23076923076923078),\n ('trouble', 0.23076923076923078),\n ('waterbender', 0.23076923076923078),\n ('thought', 0.23076923076923078),\n ('making', 0.23076923076923078),\n ('hurt', 0.23076923076923078),\n ('whos', 0.23076923076923078),\n ('too', 0.22857142857142856),\n ('place', 0.22857142857142856),\n ('so', 0.2275132275132275),\n ('care', 0.22727272727272727),\n ('pole', 0.22727272727272727),\n ('this', 0.22560975609756098),\n ('theyre', 0.225),\n ('way', 0.2235294117647059),\n ('clouds', 0.2222222222222222),\n ('angry', 0.2222222222222222),\n ('wonder', 0.2222222222222222),\n ('play', 0.2222222222222222),\n ('airbenders', 0.2222222222222222),\n ('anything', 0.2222222222222222),\n ('family', 0.2222222222222222),\n ('waterbending', 0.2222222222222222),\n ('telling', 0.2222222222222222),\n ('kind', 0.2222222222222222),\n ('sick', 0.2222222222222222),\n ('elements', 0.2222222222222222),\n ('bato', 0.2222222222222222),\n ('hands', 0.2222222222222222),\n ('changed', 0.2222222222222222),\n ('great', 0.22077922077922077),\n ('where', 0.22033898305084745),\n ('can', 0.22012578616352202),\n ('that', 0.21957671957671956),\n ('off', 0.21951219512195122),\n ('my', 0.2182410423452769),\n ('and', 0.21721311475409835),\n ('real', 0.21428571428571427),\n ('saw', 0.21428571428571427),\n ('get', 0.21348314606741572),\n ('be', 0.21285140562248997),\n ('had', 0.2127659574468085),\n ('ready', 0.21212121212121213),\n ('take', 0.21153846153846154),\n ('little', 0.21052631578947367),\n ('might', 0.21052631578947367),\n ('mind', 0.21052631578947367),\n ('being', 0.21052631578947367),\n ('good', 0.20987654320987653),\n ('like', 0.20967741935483872),\n ('these', 0.20967741935483872),\n ('wu', 0.20833333333333334),\n ('they', 0.20833333333333334),\n ('stop', 0.20689655172413793),\n ('then', 0.20588235294117646),\n ('jin', 0.20588235294117646),\n ('it', 0.20408163265306123),\n ('have', 0.20384615384615384),\n ('were', 0.20382165605095542),\n ('close', 0.2),\n ('ago', 0.2),\n ('magic', 0.2),\n ('avatars', 0.2),\n ('word', 0.2),\n ('love', 0.2),\n ('truly', 0.2),\n ('amazing', 0.2),\n ('without', 0.2),\n ('else', 0.2),\n ('choose', 0.2),\n ('before', 0.2),\n ('than', 0.2),\n ('feels', 0.2),\n ('honor', 0.2),\n ('hmm', 0.2),\n ('looks', 0.2),\n ('act', 0.2),\n ('army', 0.2),\n ('chance', 0.2),\n ('hate', 0.2),\n ('closed', 0.2),\n ('butt', 0.2),\n ('mastered', 0.2),\n ('practice', 0.2),\n ('tired', 0.2),\n ('town', 0.2),\n ('understand', 0.2),\n ('came', 0.2),\n ('along', 0.2),\n ('nonsense', 0.2),\n ('dodging', 0.2),\n ('helping', 0.2),\n ('nose', 0.2),\n ('morning', 0.2),\n ('hole', 0.2),\n ('smoke', 0.2),\n ('anymore', 0.2),\n ('enjoy', 0.2),\n ('yours', 0.2),\n ('zhangs', 0.2),\n ('taken', 0.2),\n ('south', 0.2),\n ('calling', 0.2),\n ('sanctuary', 0.2),\n ('caught', 0.2),\n ('speak', 0.2),\n ('shut', 0.2),\n ('duke', 0.2),\n ('legend', 0.2),\n ('minutes', 0.2),\n ('prison', 0.2),\n ('kids', 0.2),\n ('papaya', 0.2),\n ('shoot', 0.2),\n ('though', 0.2),\n ('now', 0.19718309859154928),\n ...]"
     },
     "metadata": {},
     "execution_count": 94
    }
   ],
   "source": [
    "# s1_wbb['Aang']\n",
    "s1_wbb['aang']"
   ]
  },
  {
   "cell_type": "code",
   "execution_count": null,
   "metadata": {},
   "outputs": [],
   "source": []
  }
 ],
 "metadata": {
  "kernelspec": {
   "name": "python38364bitavatarscriptanalysispipenv8de1ba2f463a4d24ae2f4934f1108141",
   "display_name": "Python 3.8.3 64-bit ('avatar-script-analysis': pipenv)"
  }
 },
 "nbformat": 4,
 "nbformat_minor": 4
}