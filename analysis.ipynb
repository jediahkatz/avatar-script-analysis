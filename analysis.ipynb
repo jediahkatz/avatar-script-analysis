{
 "cells": [
  {
   "cell_type": "code",
   "execution_count": 8,
   "metadata": {},
   "outputs": [],
   "source": [
    "from collections import Counter, defaultdict\n",
    "import re\n",
    "\n",
    "def get_ep_bow(script_lines):\n",
    "    \"\"\"Return a bag of words for this episode; i.e., a mapping from characters to words to counts.\"\"\"\n",
    "    bow = defaultdict(lambda: Counter())\n",
    "    for line in script_lines:\n",
    "        speaker, line = line.split('::')\n",
    "        # Get all words, without parentheses and ignoring punctuation\n",
    "        words = re.findall(r'\\w+', line.replace('\\'', ''))\n",
    "        bow[speaker.strip()].update(words)\n",
    "    return bow"
   ]
  },
  {
   "cell_type": "code",
   "execution_count": 14,
   "metadata": {},
   "outputs": [],
   "source": [
    "with open('transcripts/101.txt') as f:\n",
    "    x = get_ep_bow(f.readlines())"
   ]
  },
  {
   "cell_type": "code",
   "execution_count": null,
   "metadata": {},
   "outputs": [],
   "source": []
  }
 ],
 "metadata": {
  "kernelspec": {
   "name": "python38364bitavatarscriptanalysispipenv8de1ba2f463a4d24ae2f4934f1108141",
   "display_name": "Python 3.8.3 64-bit ('avatar-script-analysis': pipenv)"
  }
 },
 "nbformat": 4,
 "nbformat_minor": 4
}